{
 "cells": [
  {
   "cell_type": "code",
   "execution_count": 1,
   "metadata": {},
   "outputs": [],
   "source": [
    "import numpy as np\n",
    "import matplotlib.pyplot as plt\n",
    "import math\n",
    "import cmath"
   ]
  },
  {
   "cell_type": "code",
   "execution_count": 2,
   "metadata": {},
   "outputs": [],
   "source": [
    "#size of DFT\n",
    "n = 6\n",
    "#fundamental frequency\n",
    "w = np.exp(-1j * 2 * np.pi / n)"
   ]
  },
  {
   "cell_type": "code",
   "execution_count": 3,
   "metadata": {},
   "outputs": [
    {
     "data": {
      "image/png": "[encoded data removed]",
      "text/plain": [
       "<Figure size 432x288 with 1 Axes>"
      ]
     },
     "metadata": {
      "needs_background": "light"
     },
     "output_type": "display_data"
    }
   ],
   "source": [
    "J,K = np.meshgrid(np.arange(n),np.arange(n))\n",
    "DFT = np.power(w,J*K)\n",
    "\n",
    "DFT = np.real(DFT)\n",
    "       \n",
    "plt.imshow(DFT)\n",
    "plt.show()"
   ]
  },
  {
   "cell_type": "code",
   "execution_count": 4,
   "metadata": {},
   "outputs": [
    {
     "data": {
      "text/plain": [
       "array([[ 1. +0.00000000e+00j,  1. +0.00000000e+00j,  1. +0.00000000e+00j,\n",
       "         1. +0.00000000e+00j,  1. +0.00000000e+00j,  1. +0.00000000e+00j],\n",
       "       [ 1. +0.00000000e+00j,  0.5-8.66025404e-01j, -0.5-8.66025404e-01j,\n",
       "        -1. -3.88578059e-16j, -0.5+8.66025404e-01j,  0.5+8.66025404e-01j],\n",
       "       [ 1. +0.00000000e+00j, -0.5-8.66025404e-01j, -0.5+8.66025404e-01j,\n",
       "         1. +8.32667268e-16j, -0.5-8.66025404e-01j, -0.5+8.66025404e-01j],\n",
       "       [ 1. +0.00000000e+00j, -1. -3.88578059e-16j,  1. +8.32667268e-16j,\n",
       "        -1. -1.33226763e-15j,  1. +1.77635684e-15j, -1. -2.16493490e-15j],\n",
       "       [ 1. +0.00000000e+00j, -0.5+8.66025404e-01j, -0.5-8.66025404e-01j,\n",
       "         1. +1.77635684e-15j, -0.5+8.66025404e-01j, -0.5-8.66025404e-01j],\n",
       "       [ 1. +0.00000000e+00j,  0.5+8.66025404e-01j, -0.5+8.66025404e-01j,\n",
       "        -1. -2.16493490e-15j, -0.5-8.66025404e-01j,  0.5-8.66025404e-01j]])"
      ]
     },
     "execution_count": 4,
     "metadata": {},
     "output_type": "execute_result"
    }
   ],
   "source": [
    "J,K = np.meshgrid(np.arange(n),np.arange(n))\n",
    "DFT = np.power(w,J*K)\n",
    "DFT"
   ]
  },
  {
   "cell_type": "code",
   "execution_count": 5,
   "metadata": {},
   "outputs": [],
   "source": [
    "DFT_new = (1/math.sqrt(6))*DFT"
   ]
  },
  {
   "cell_type": "code",
   "execution_count": 6,
   "metadata": {},
   "outputs": [
    {
     "data": {
      "text/plain": [
       "array([[ 0.40824829+0.00000000e+00j,  0.40824829+0.00000000e+00j,\n",
       "         0.40824829+0.00000000e+00j,  0.40824829+0.00000000e+00j,\n",
       "         0.40824829+0.00000000e+00j,  0.40824829+0.00000000e+00j],\n",
       "       [ 0.40824829+0.00000000e+00j,  0.20412415-3.53553391e-01j,\n",
       "        -0.20412415-3.53553391e-01j, -0.40824829-1.58636328e-16j,\n",
       "        -0.20412415+3.53553391e-01j,  0.20412415+3.53553391e-01j],\n",
       "       [ 0.40824829+0.00000000e+00j, -0.20412415-3.53553391e-01j,\n",
       "        -0.20412415+3.53553391e-01j,  0.40824829+3.39934989e-16j,\n",
       "        -0.20412415-3.53553391e-01j, -0.20412415+3.53553391e-01j],\n",
       "       [ 0.40824829+0.00000000e+00j, -0.40824829-1.58636328e-16j,\n",
       "         0.40824829+3.39934989e-16j, -0.40824829-5.43895982e-16j,\n",
       "         0.40824829+7.25194643e-16j, -0.40824829-8.83830971e-16j],\n",
       "       [ 0.40824829+0.00000000e+00j, -0.20412415+3.53553391e-01j,\n",
       "        -0.20412415-3.53553391e-01j,  0.40824829+7.25194643e-16j,\n",
       "        -0.20412415+3.53553391e-01j, -0.20412415-3.53553391e-01j],\n",
       "       [ 0.40824829+0.00000000e+00j,  0.20412415+3.53553391e-01j,\n",
       "        -0.20412415+3.53553391e-01j, -0.40824829-8.83830971e-16j,\n",
       "        -0.20412415-3.53553391e-01j,  0.20412415-3.53553391e-01j]])"
      ]
     },
     "execution_count": 6,
     "metadata": {},
     "output_type": "execute_result"
    }
   ],
   "source": [
    "DFT_new"
   ]
  },
  {
   "cell_type": "code",
   "execution_count": 7,
   "metadata": {},
   "outputs": [
    {
     "data": {
      "text/plain": [
       "array([[ 0.40824829,  0.40824829,  0.40824829,  0.40824829,  0.40824829,\n",
       "         0.40824829],\n",
       "       [ 0.40824829,  0.20412415, -0.20412415, -0.40824829, -0.20412415,\n",
       "         0.20412415],\n",
       "       [ 0.40824829, -0.20412415, -0.20412415,  0.40824829, -0.20412415,\n",
       "        -0.20412415],\n",
       "       [ 0.40824829, -0.40824829,  0.40824829, -0.40824829,  0.40824829,\n",
       "        -0.40824829],\n",
       "       [ 0.40824829, -0.20412415, -0.20412415,  0.40824829, -0.20412415,\n",
       "        -0.20412415],\n",
       "       [ 0.40824829,  0.20412415, -0.20412415, -0.40824829, -0.20412415,\n",
       "         0.20412415]])"
      ]
     },
     "execution_count": 7,
     "metadata": {},
     "output_type": "execute_result"
    }
   ],
   "source": [
    "DFT_new_real = np.real(DFT_new)\n",
    "DFT_new_real"
   ]
  },
  {
   "cell_type": "code",
   "execution_count": 8,
   "metadata": {},
   "outputs": [],
   "source": [
    "#size of DIFT\n",
    "n = 6\n",
    "#fundamental frequency\n",
    "wIF = np.exp(1j * 2 * np.pi / n)"
   ]
  },
  {
   "cell_type": "code",
   "execution_count": 9,
   "metadata": {},
   "outputs": [
    {
     "data": {
      "image/png": "[encoded data removed]",
      "text/plain": [
       "<Figure size 432x288 with 1 Axes>"
      ]
     },
     "metadata": {
      "needs_background": "light"
     },
     "output_type": "display_data"
    }
   ],
   "source": [
    "J,K = np.meshgrid(np.arange(n),np.arange(n))\n",
    "DIFT = np.power(wIF,J*K)\n",
    "\n",
    "DIFT = np.real(DIFT)\n",
    "       \n",
    "plt.imshow(DIFT)\n",
    "plt.show()"
   ]
  },
  {
   "cell_type": "code",
   "execution_count": 10,
   "metadata": {
    "scrolled": false
   },
   "outputs": [
    {
     "data": {
      "text/plain": [
       "array([[ 1. +0.00000000e+00j,  1. +0.00000000e+00j,  1. +0.00000000e+00j,\n",
       "         1. +0.00000000e+00j,  1. +0.00000000e+00j,  1. +0.00000000e+00j],\n",
       "       [ 1. +0.00000000e+00j,  0.5+8.66025404e-01j, -0.5+8.66025404e-01j,\n",
       "        -1. +3.88578059e-16j, -0.5-8.66025404e-01j,  0.5-8.66025404e-01j],\n",
       "       [ 1. +0.00000000e+00j, -0.5+8.66025404e-01j, -0.5-8.66025404e-01j,\n",
       "         1. -8.32667268e-16j, -0.5+8.66025404e-01j, -0.5-8.66025404e-01j],\n",
       "       [ 1. +0.00000000e+00j, -1. +3.88578059e-16j,  1. -8.32667268e-16j,\n",
       "        -1. +1.33226763e-15j,  1. -1.77635684e-15j, -1. +2.16493490e-15j],\n",
       "       [ 1. +0.00000000e+00j, -0.5-8.66025404e-01j, -0.5+8.66025404e-01j,\n",
       "         1. -1.77635684e-15j, -0.5-8.66025404e-01j, -0.5+8.66025404e-01j],\n",
       "       [ 1. +0.00000000e+00j,  0.5-8.66025404e-01j, -0.5-8.66025404e-01j,\n",
       "        -1. +2.16493490e-15j, -0.5+8.66025404e-01j,  0.5+8.66025404e-01j]])"
      ]
     },
     "execution_count": 10,
     "metadata": {},
     "output_type": "execute_result"
    }
   ],
   "source": [
    "J,K = np.meshgrid(np.arange(n),np.arange(n))\n",
    "DIFT = np.power(wIF,J*K)\n",
    "DIFT"
   ]
  },
  {
   "cell_type": "code",
   "execution_count": 11,
   "metadata": {},
   "outputs": [],
   "source": [
    "DIFT_new = (1/math.sqrt(6))*DIFT"
   ]
  },
  {
   "cell_type": "code",
   "execution_count": 21,
   "metadata": {},
   "outputs": [
    {
     "data": {
      "text/plain": [
       "array([[ 0.40824829+0.00000000e+00j,  0.40824829+0.00000000e+00j,\n",
       "         0.40824829+0.00000000e+00j,  0.40824829+0.00000000e+00j,\n",
       "         0.40824829+0.00000000e+00j,  0.40824829+0.00000000e+00j],\n",
       "       [ 0.40824829+0.00000000e+00j,  0.20412415+3.53553391e-01j,\n",
       "        -0.20412415+3.53553391e-01j, -0.40824829+1.58636328e-16j,\n",
       "        -0.20412415-3.53553391e-01j,  0.20412415-3.53553391e-01j],\n",
       "       [ 0.40824829+0.00000000e+00j, -0.20412415+3.53553391e-01j,\n",
       "        -0.20412415-3.53553391e-01j,  0.40824829-3.39934989e-16j,\n",
       "        -0.20412415+3.53553391e-01j, -0.20412415-3.53553391e-01j],\n",
       "       [ 0.40824829+0.00000000e+00j, -0.40824829+1.58636328e-16j,\n",
       "         0.40824829-3.39934989e-16j, -0.40824829+5.43895982e-16j,\n",
       "         0.40824829-7.25194643e-16j, -0.40824829+8.83830971e-16j],\n",
       "       [ 0.40824829+0.00000000e+00j, -0.20412415-3.53553391e-01j,\n",
       "        -0.20412415+3.53553391e-01j,  0.40824829-7.25194643e-16j,\n",
       "        -0.20412415-3.53553391e-01j, -0.20412415+3.53553391e-01j],\n",
       "       [ 0.40824829+0.00000000e+00j,  0.20412415-3.53553391e-01j,\n",
       "        -0.20412415-3.53553391e-01j, -0.40824829+8.83830971e-16j,\n",
       "        -0.20412415+3.53553391e-01j,  0.20412415+3.53553391e-01j]])"
      ]
     },
     "execution_count": 21,
     "metadata": {},
     "output_type": "execute_result"
    }
   ],
   "source": [
    "DIFT_new"
   ]
  },
  {
   "cell_type": "code",
   "execution_count": 12,
   "metadata": {},
   "outputs": [],
   "source": [
    "z = np.array([[1,0,0,0,0.3,0.7], [0.7,1,0,0,0,0.3], [0.3,0.7,1,0,0,0], [0,0.3,0.7,1,0,0], [0,0,0.3,0.7,1,0], [0,0,0,0.3,0.7,1]])"
   ]
  },
  {
   "cell_type": "code",
   "execution_count": 13,
   "metadata": {},
   "outputs": [
    {
     "data": {
      "text/plain": [
       "array([[1. , 0. , 0. , 0. , 0.3, 0.7],\n",
       "       [0.7, 1. , 0. , 0. , 0. , 0.3],\n",
       "       [0.3, 0.7, 1. , 0. , 0. , 0. ],\n",
       "       [0. , 0.3, 0.7, 1. , 0. , 0. ],\n",
       "       [0. , 0. , 0.3, 0.7, 1. , 0. ],\n",
       "       [0. , 0. , 0. , 0.3, 0.7, 1. ]])"
      ]
     },
     "execution_count": 13,
     "metadata": {},
     "output_type": "execute_result"
    }
   ],
   "source": [
    "z"
   ]
  },
  {
   "cell_type": "code",
   "execution_count": 14,
   "metadata": {},
   "outputs": [],
   "source": [
    "x1 = DFT_new*z"
   ]
  },
  {
   "cell_type": "code",
   "execution_count": 15,
   "metadata": {},
   "outputs": [
    {
     "data": {
      "text/plain": [
       "array([[ 0.40824829+0.00000000e+00j,  0.        +0.00000000e+00j,\n",
       "         0.        +0.00000000e+00j,  0.        +0.00000000e+00j,\n",
       "         0.12247449+0.00000000e+00j,  0.2857738 +0.00000000e+00j],\n",
       "       [ 0.2857738 +0.00000000e+00j,  0.20412415-3.53553391e-01j,\n",
       "         0.        -0.00000000e+00j,  0.        -0.00000000e+00j,\n",
       "        -0.        +0.00000000e+00j,  0.06123724+1.06066017e-01j],\n",
       "       [ 0.12247449+0.00000000e+00j, -0.1428869 -2.47487373e-01j,\n",
       "        -0.20412415+3.53553391e-01j,  0.        +0.00000000e+00j,\n",
       "         0.        -0.00000000e+00j, -0.        +0.00000000e+00j],\n",
       "       [ 0.        +0.00000000e+00j, -0.12247449-4.75908984e-17j,\n",
       "         0.2857738 +2.37954492e-16j, -0.40824829-5.43895982e-16j,\n",
       "         0.        +0.00000000e+00j,  0.        -0.00000000e+00j],\n",
       "       [ 0.        +0.00000000e+00j, -0.        +0.00000000e+00j,\n",
       "        -0.06123724-1.06066017e-01j,  0.2857738 +5.07636250e-16j,\n",
       "        -0.20412415+3.53553391e-01j,  0.        -0.00000000e+00j],\n",
       "       [ 0.        +0.00000000e+00j,  0.        +0.00000000e+00j,\n",
       "        -0.        +0.00000000e+00j, -0.12247449-2.65149291e-16j,\n",
       "        -0.1428869 -2.47487373e-01j,  0.20412415-3.53553391e-01j]])"
      ]
     },
     "execution_count": 15,
     "metadata": {},
     "output_type": "execute_result"
    }
   ],
   "source": [
    "x1"
   ]
  },
  {
   "cell_type": "code",
   "execution_count": 16,
   "metadata": {},
   "outputs": [],
   "source": [
    "x = x1*DIFT_new"
   ]
  },
  {
   "cell_type": "code",
   "execution_count": 17,
   "metadata": {},
   "outputs": [
    {
     "data": {
      "text/plain": [
       "array([[0.16666667+0.00000000e+00j, 0.        +0.00000000e+00j,\n",
       "        0.        +0.00000000e+00j, 0.        +0.00000000e+00j,\n",
       "        0.05      +0.00000000e+00j, 0.11666667+0.00000000e+00j],\n",
       "       [0.11666667+0.00000000e+00j, 0.16666667+0.00000000e+00j,\n",
       "        0.        +0.00000000e+00j, 0.        +0.00000000e+00j,\n",
       "        0.        +0.00000000e+00j, 0.05      +0.00000000e+00j],\n",
       "       [0.05      +0.00000000e+00j, 0.11666667+0.00000000e+00j,\n",
       "        0.16666667+0.00000000e+00j, 0.        +0.00000000e+00j,\n",
       "        0.        +0.00000000e+00j, 0.        +0.00000000e+00j],\n",
       "       [0.        +0.00000000e+00j, 0.05      +0.00000000e+00j,\n",
       "        0.11666667+1.23259516e-32j, 0.16666667+0.00000000e+00j,\n",
       "        0.        +0.00000000e+00j, 0.        +0.00000000e+00j],\n",
       "       [0.        +0.00000000e+00j, 0.        +0.00000000e+00j,\n",
       "        0.05      +0.00000000e+00j, 0.11666667+0.00000000e+00j,\n",
       "        0.16666667+0.00000000e+00j, 0.        +0.00000000e+00j],\n",
       "       [0.        +0.00000000e+00j, 0.        +0.00000000e+00j,\n",
       "        0.        +0.00000000e+00j, 0.05      +0.00000000e+00j,\n",
       "        0.11666667-6.93889390e-18j, 0.16666667+0.00000000e+00j]])"
      ]
     },
     "execution_count": 17,
     "metadata": {},
     "output_type": "execute_result"
    }
   ],
   "source": [
    "x"
   ]
  },
  {
   "attachments": {
    "image.png": {
     "image/png": "[encoded data removed]"
    }
   },
   "cell_type": "markdown",
   "metadata": {},
   "source": [
    "### MATRIKS X = diag[F Hc FH]\n",
    "![image.png](attachment:image.png)"
   ]
  },
  {
   "cell_type": "code",
   "execution_count": null,
   "metadata": {},
   "outputs": [],
   "source": []
  }
 ],
 "metadata": {
  "kernelspec": {
   "display_name": "Python 3",
   "language": "python",
   "name": "python3"
  },
  "language_info": {
   "codemirror_mode": {
    "name": "ipython",
    "version": 3
   },
   "file_extension": ".py",
   "mimetype": "text/x-python",
   "name": "python",
   "nbconvert_exporter": "python",
   "pygments_lexer": "ipython3",
   "version": "3.8.5"
  }
 },
 "nbformat": 4,
 "nbformat_minor": 4
}
